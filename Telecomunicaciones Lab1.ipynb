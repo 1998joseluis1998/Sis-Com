{
 "cells": [
  {
   "cell_type": "code",
   "execution_count": 4,
   "metadata": {},
   "outputs": [
    {
     "name": "stdout",
     "output_type": "stream",
     "text": [
      "Requirement already satisfied: twilio==5.7.0 in c:\\users\\jose luis\\anaconda3\\lib\\site-packages (5.7.0)\n",
      "Requirement already satisfied: pytz in c:\\users\\jose luis\\anaconda3\\lib\\site-packages (from twilio==5.7.0) (2018.7)\n",
      "Requirement already satisfied: httplib2>=0.7 in c:\\users\\jose luis\\anaconda3\\lib\\site-packages (from twilio==5.7.0) (0.12.1)\n",
      "Requirement already satisfied: pysocks in c:\\users\\jose luis\\anaconda3\\lib\\site-packages (from twilio==5.7.0) (1.6.8)\n",
      "Requirement already satisfied: six in c:\\users\\jose luis\\anaconda3\\lib\\site-packages (from twilio==5.7.0) (1.12.0)\n"
     ]
    }
   ],
   "source": [
    "!pip install twilio==5.7.0"
   ]
  },
  {
   "cell_type": "code",
   "execution_count": 50,
   "metadata": {},
   "outputs": [],
   "source": [
    "from twilio.rest import TwilioRestClient"
   ]
  },
  {
   "cell_type": "code",
   "execution_count": 51,
   "metadata": {},
   "outputs": [],
   "source": [
    "TWILIO_PHONE_NUMBER =\"+12063503849\""
   ]
  },
  {
   "cell_type": "code",
   "execution_count": 52,
   "metadata": {},
   "outputs": [],
   "source": [
    "DIAL_NUMBERS = [\"+59178344318\"]"
   ]
  },
  {
   "cell_type": "code",
   "execution_count": 60,
   "metadata": {},
   "outputs": [],
   "source": [
    "TWIML_INSTRUCTIONS_URL = \\\n",
    "\"https://vidaenred.org/llamada-Sist_Com.xml\""
   ]
  },
  {
   "cell_type": "code",
   "execution_count": 70,
   "metadata": {},
   "outputs": [],
   "source": [
    "client=TwilioRestClient(\"AC964c954cc9c7b7b76ffff1c88e6a6ddd\",\"c3fe96577d78561834b6ce3fd976a31d\")"
   ]
  },
  {
   "cell_type": "code",
   "execution_count": 90,
   "metadata": {},
   "outputs": [],
   "source": [
    "def dial_numbers(numbers_list):\n",
    "     for number in numbers_list:\n",
    "            print(\"Dialing\" + number)\n",
    "            client.calls.create(to=number, from_=TWILIO_PHONE_NUMBER, \n",
    "url=TWIML_INSTRUCTIONS_URL, method=\"GET\")"
   ]
  },
  {
   "cell_type": "code",
   "execution_count": 94,
   "metadata": {},
   "outputs": [
    {
     "name": "stdout",
     "output_type": "stream",
     "text": [
      "Dialing+59178344318\n"
     ]
    }
   ],
   "source": [
    "if __name__ == \"__main__\":\n",
    "    dial_numbers(DIAL_NUMBERS)"
   ]
  },
  {
   "cell_type": "code",
   "execution_count": null,
   "metadata": {},
   "outputs": [],
   "source": []
  },
  {
   "cell_type": "markdown",
   "metadata": {},
   "source": [
    "## PREGUNTAS\n",
    "##1. ¿Explica para que sirve el archivo https://vidaenred.org/llamada-Sist_Com.xml”?\n",
    "    \n",
    "R:Sirve para mediante una automata responda al texto predefinido al momento de contestar la llamada.\n",
    "    \n",
    "##2. ¿Para qué sirve la librería Twilio?\n",
    "\n",
    "R:se usa para definir el token y el SID con los que se realiza la comunicación.\n",
    "    \n",
    "3. /*def dial_numbers(numbers_list):\n",
    "     for number in numbers_list:\n",
    "            print(\"Dialing\" + number)\n",
    "            client.calls.create(to=number, from_=TWILIO_PHONE_NUMBER, \n",
    "url=TWIML_INSTRUCTIONS_URL, method=\"GET\")*/\n",
    "            \n",
    "R:Sirve para marcar los numeros que deseas, que estan almacenados en el arreglo.\n",
    "\n"
   ]
  }
 ],
 "metadata": {
  "kernelspec": {
   "display_name": "Python 3",
   "language": "python",
   "name": "python3"
  },
  "language_info": {
   "codemirror_mode": {
    "name": "ipython",
    "version": 3
   },
   "file_extension": ".py",
   "mimetype": "text/x-python",
   "name": "python",
   "nbconvert_exporter": "python",
   "pygments_lexer": "ipython3",
   "version": "3.7.1"
  },
  "widgets": {
   "application/vnd.jupyter.widget-state+json": {
    "state": {},
    "version_major": 2,
    "version_minor": 0
   }
  }
 },
 "nbformat": 4,
 "nbformat_minor": 2
}
